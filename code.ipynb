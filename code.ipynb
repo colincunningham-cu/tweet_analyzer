# import dash libraries
import dash
from jupyter_dash import JupyterDash
import dash_core_components as dcc
import dash_bootstrap_components as dbc
import dash_html_components as html
from dash.dependencies import Input, Output, State
from dash import dash_table as dt

# import plotly libraries
import plotly.express as px
import plotly.graph_objects as go

# import misc libraries
import pandas as pd
import numpy as np
import datetime
from datetime import date, datetime
import base64
from io import BytesIO

# import NLP libraries
import nltk
from nltk.tokenize import RegexpTokenizer
from nltk.corpus import stopwords
from nltk.stem import WordNetLemmatizer
from nltk.sentiment import SentimentIntensityAnalyzer
from wordcloud import WordCloud
